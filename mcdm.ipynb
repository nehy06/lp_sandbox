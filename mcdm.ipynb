{
 "cells": [
  {
   "cell_type": "code",
   "execution_count": 1,
   "metadata": {},
   "outputs": [],
   "source": [
    "import numpy as np\n",
    "\n",
    "def calculate_ahp_weights(ahp_matrix):\n",
    "    # Výpočet vlastních hodnot a vektorů\n",
    "    eigenvalues, eigenvectors = np.linalg.eig(ahp_matrix)\n",
    "    # Hledání maximální vlastní hodnoty a odpovídajícího vlastního vektoru\n",
    "    max_eigenvalue = np.max(eigenvalues)\n",
    "    max_eigenvector = eigenvectors[:, eigenvalues.argmax()].real\n",
    "    # Normalizace vlastního vektoru pro získání vah\n",
    "    weights = max_eigenvector / np.sum(max_eigenvector)\n",
    "    return weights\n",
    "\n",
    "def consistency_ratio(ahp_matrix, weights):\n",
    "    n = ahp_matrix.shape[0]\n",
    "    # Výpočet matice váženého součtu\n",
    "    weighted_sum_matrix = np.dot(ahp_matrix, weights)\n",
    "    # Výpočet lambda_max\n",
    "    lambda_max = np.mean(weighted_sum_matrix / weights)\n",
    "    # Výpočet indexu konzistence (CI)\n",
    "    ci = (lambda_max - n) / (n - 1)\n",
    "    # Random index (RI) pro náhodnou matici (hodnoty závisí na velikosti matice, příklad pro n=3)\n",
    "    ri = 0.58  # Tato hodnota se liší podle velikosti matice, pro n=3 je 0.58, pro jiné velikosti viz tabulky RI\n",
    "    # Výpočet poměru konzistence (CR)\n",
    "    cr = ci / ri\n",
    "    return cr\n"
   ]
  },
  {
   "cell_type": "code",
   "execution_count": 2,
   "metadata": {},
   "outputs": [],
   "source": [
    "def topsis(decision_matrix, weights):\n",
    "    # Normalizace matice rozhodování\n",
    "    norm_matrix = decision_matrix / np.sqrt((decision_matrix**2).sum(axis=0))\n",
    "    # Vážení normalizované matice\n",
    "    weighted_matrix = norm_matrix * weights\n",
    "    # Určení ideálních a neideálních řešení\n",
    "    ideal_solution = np.max(weighted_matrix, axis=0)\n",
    "    negative_ideal_solution = np.min(weighted_matrix, axis=0)\n",
    "    # Výpočet vzdáleností\n",
    "    distance_to_ideal = np.sqrt(((weighted_matrix - ideal_solution)**2).sum(axis=1))\n",
    "    distance_to_negative_ideal = np.sqrt(((weighted_matrix - negative_ideal_solution)**2).sum(axis=1))\n",
    "    # Výpočet relativní blízkosti k ideálnímu řešení\n",
    "    similarity_to_ideal_solution = distance_to_negative_ideal / (distance_to_ideal + distance_to_negative_ideal)\n",
    "    return similarity_to_ideal_solution\n"
   ]
  },
  {
   "cell_type": "code",
   "execution_count": 5,
   "metadata": {},
   "outputs": [
    {
     "name": "stdout",
     "output_type": "stream",
     "text": [
      "Matice je konzistentní, CR = 0.06777393837435418\n",
      "Relativní blízkost k ideálnímu řešení: [0.75632894 0.24367106 0.67318041]\n",
      "Nejlepší varianta je: 1\n"
     ]
    }
   ],
   "source": [
    "# Příklad Saatyho matice (zde použijeme náhodnou matici pro ilustraci)\n",
    "ahp_matrix = np.array([\n",
    "    [1,    1/2,  3,    1/4],\n",
    "    [2,    1,    4,    1/3],\n",
    "    [1/3,  1/4,  1,    1/5],\n",
    "    [4,    3,    5,    1]\n",
    "])\n",
    "\n",
    "# Příklad matice rozhodování\n",
    "decision_matrix = np.array([\n",
    "    [1, 2, 3, 4],  # Varianta 1\n",
    "    [4, 3, 2, 1],  # Varianta 2\n",
    "    [3, 3, 3, 3]   # Varianta 3\n",
    "])\n",
    "\n",
    "# Výpočet vah kritérií pomocí AHP\n",
    "weights = calculate_ahp_weights(ahp_matrix)\n",
    "cr = consistency_ratio(ahp_matrix, weights)\n",
    "\n",
    "# Kontrola konzistence\n",
    "if cr < 0.1:\n",
    "    print(\"Matice je konzistentní, CR =\", cr)\n",
    "    # Implementace TOPSIS\n",
    "    similarity_to_ideal_solution = topsis(decision_matrix, weights)\n",
    "    print(\"Relativní blízkost k ideálnímu řešení:\", similarity_to_ideal_solution)\n",
    "    # Nejlepší varianta\n",
    "    best_option_index = np.argmax(similarity_to_ideal_solution)\n",
    "    print(\"Nejlepší varianta je:\", best_option_index + 1)\n",
    "else:\n",
    "    print(\"Matice není dostatečně konzistentní, CR =\", cr)\n"
   ]
  }
 ],
 "metadata": {
  "kernelspec": {
   "display_name": "Python 3",
   "language": "python",
   "name": "python3"
  },
  "language_info": {
   "codemirror_mode": {
    "name": "ipython",
    "version": 3
   },
   "file_extension": ".py",
   "mimetype": "text/x-python",
   "name": "python",
   "nbconvert_exporter": "python",
   "pygments_lexer": "ipython3",
   "version": "3.10.6"
  }
 },
 "nbformat": 4,
 "nbformat_minor": 2
}
