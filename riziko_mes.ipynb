{
 "cells": [
  {
   "cell_type": "markdown",
   "metadata": {},
   "source": [
    "# Příklad na rozhodování za rizika\n",
    "Společnost má možnost investovat do nového projektu, který se zaměřuje na vývoj ekologického balení. Existují tři možné alternativy: investovat do vývoje nového materiálu (A1), investovat do zlepšení stávajícího materiálu (A2) nebo neinvestovat (A3). Každá alternativa má různé finanční výsledky v závislosti na tržní odezvě, která může být pozitivní (S1), neutrální (S2) nebo negativní (S3). Přidáme alternativu A4, která se zaměřuje na partnerství s jinou společností pro společný vývoj a distribuci ekologického balení. Tato alternativa může přinést různé finanční výsledky v závislosti na úspěchu partnerství a přijetí trhu.\n",
    "\n",
    "Cíle a rizika: Hlavním cílem je maximalizovat zisk a minimalizovat riziko ztráty investice. Pravděpodobnosti stavů tržní odezvy jsou odhadovány na základě tržních analýz a expertních odhadů: pozitivní (0.4), neutrální (0.35), negativní (0.25).\n",
    "\n",
    "Rozhodovací matice:\n",
    "\n",
    "Alternativa/Stav | Pozitivní (S1)\t| Neutrální (S2) | Negativní (S3)\n",
    "--- | --- | --- | --- | \n",
    "A1 - Nový materiál | 100 000 Kč | 20 000 Kč\t| -50 000 Kč\n",
    "A2 - Zlepšení materiálu\t| 50 000 Kč\t| 30 000 Kč\t| -20 000 Kč\n",
    "A3 - Neinvestovat\t| 0 Kč\t| 0 Kč | 0 Kč\n",
    "A4 - Partnerství |\t80 000 Kč |\t40 000 Kč | -30 000 Kč\n",
    "\n",
    "\n",
    "Úkoly:\n",
    "1) Vypočítejte očekávanou hodnotu (EMV) pro každou alternativu.\n",
    "1) Rozhodněte, která alternativa je nejlepší volbou za použití kritéria maximální očekávané hodnoty.\n",
    "1) Diskutujte o dopadech každé alternativy, včetně možných rizik a příležitostí."
   ]
  },
  {
   "cell_type": "code",
   "execution_count": 2,
   "metadata": {},
   "outputs": [],
   "source": [
    "# Definice rozhodovací tabulky + pstí\n",
    "\n",
    "Stavy = [\"Pozitivní\",\"Neutrální\",\"Negativní\"]\n",
    "Pst = [0.4, 0.35, 0.25]\n",
    "\n",
    "A1 = [100000, 20000, -50000]\n",
    "A2 = [50000, 30000, -20000]\n",
    "A3 = [0, 0, 0]\n",
    "A4 = [80000, 80000, -30000]\n"
   ]
  },
  {
   "cell_type": "code",
   "execution_count": 19,
   "metadata": {},
   "outputs": [
    {
     "name": "stdout",
     "output_type": "stream",
     "text": [
      " toto 34500.0 je vysledek pro [100000, 20000, -50000]\n",
      " toto 25500.0 je vysledek pro [50000, 30000, -20000]\n",
      " toto 0.0 je vysledek pro [0, 0, 0]\n",
      " toto 52500.0 je vysledek pro [80000, 80000, -30000]\n",
      "\n",
      " výsledný vektor, tedy všechy součiny jsou = [34500.0, 25500.0, 0.0, 52500.0]\n"
     ]
    }
   ],
   "source": [
    "# Výpočet EMV\n",
    "Rozhodovaci_radky = [A1, A2, A3, A4]\n",
    "vysledky = []\n",
    "EMV = []\n",
    "\n",
    "for radek in Rozhodovaci_radky:\n",
    "   soucin_skalarni = sum(p * v for p, v in zip(Pst, radek))\n",
    "   vysledky.append(soucin_skalarni)\n",
    "   print(f\" toto {soucin_skalarni} je vysledek pro {radek}\")\n",
    "\n",
    "print(f\"\\n výsledný vektor, tedy všechy součiny jsou = {vysledky}\")"
   ]
  },
  {
   "cell_type": "code",
   "execution_count": null,
   "metadata": {},
   "outputs": [],
   "source": []
  }
 ],
 "metadata": {
  "kernelspec": {
   "display_name": "Python 3",
   "language": "python",
   "name": "python3"
  },
  "language_info": {
   "codemirror_mode": {
    "name": "ipython",
    "version": 3
   },
   "file_extension": ".py",
   "mimetype": "text/x-python",
   "name": "python",
   "nbconvert_exporter": "python",
   "pygments_lexer": "ipython3",
   "version": "3.10.6"
  }
 },
 "nbformat": 4,
 "nbformat_minor": 2
}
