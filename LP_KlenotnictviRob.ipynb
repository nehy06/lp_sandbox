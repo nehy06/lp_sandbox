{
 "cells": [
  {
   "cell_type": "markdown",
   "metadata": {},
   "source": [
    "**robustní náhrdelníky a prsteny s nejistou podmínkou časové kapacity**\n",
    "\n",
    "$$ max (150x_1 + 200 x_2)$$\n",
    "$$ x_1+x_2 \\leq 24$$\n",
    "$$ x_1 + 0.5x_2 + p_1 + p_2 + \\Gamma z \\leq 16$$\n",
    "$$ x_1 \\geq 10$$\n",
    "$$ -0,1x_1+p_1+z\\geq 0$$\n",
    "$$ -025x_2+p_2+z\\geq 0$$\n"
   ]
  },
  {
   "cell_type": "code",
   "execution_count": null,
   "metadata": {},
   "outputs": [],
   "source": [
    "from pulp import *\n",
    "\n",
    "# určení kriteriální funkce\n",
    "model = LpProblem(name=\"TrtzbyKlenotnictvi\", sense=LpMaximize)\n",
    "\n",
    "# stanovení rozhodovacích proměnných\n",
    "# x = {i: LpVariable(name=f\"x{i}\", lowBound=0) for i in range(1, 5)}\n",
    "\n",
    "gamma = 2\n",
    "\n",
    "x = LpVariable(name=\"narhdelniky\", lowBound=0)\n",
    "y = LpVariable(name=\"prsteny\", lowBound=0)\n",
    "p1 = LpVariable(name=\"p1\", lowBound=0)\n",
    "p2 = LpVariable(name=\"p2\", lowBound=0)\n",
    "z = LpVariable(name=\"z\", lowBound=0)\n",
    "\n",
    "# podmínky modelu\n",
    "\n",
    "model += (1 * x + 1 * y <=24, \"kapacita mateiriálu\")\n",
    "model += (1 * x + 0.5 * y + 1 * p1 + 1 * p2 + gamma * z <= 16, \"material\")\n",
    "model += (1 * x >= 10, \"min pozadavek na x1\")\n",
    "model += (-0.1 * x + 1 * p1 + 1 * z >= 0, \"robustní podminka 1\")\n",
    "model += (-0.25 * y + 1 * p2 + 1 * z >= 0, \"robustní podminka 2\")\n",
    "\n",
    "# Add the objective function to the model\n",
    "model += lpSum([150 * x, 200 * y, 0 * p1, 0 * p2, 0 * z])\n",
    "status = model.solve()\n",
    "\n",
    "print(f\"status: {model.status}, {LpStatus[model.status]}\")\n",
    "print(f\"objective: {model.objective.value()}\")\n",
    "\n",
    "for var in model.variables():\n",
    "\tprint(f\"{var.name}: {var.value()}\")\n",
    "\n",
    "for name, constraint in model.constraints.items():\n",
    "\tprint(f\"{name}: {constraint.value()}\")\n",
    "\n",
    "model.solver\n"
   ]
  }
 ],
 "metadata": {
  "kernelspec": {
   "display_name": "Python 3 (ipykernel)",
   "language": "python",
   "name": "python3"
  },
  "language_info": {
   "codemirror_mode": {
    "name": "ipython",
    "version": 3
   },
   "file_extension": ".py",
   "mimetype": "text/x-python",
   "name": "python",
   "nbconvert_exporter": "python",
   "pygments_lexer": "ipython3",
   "version": "3.12.4"
  }
 },
 "nbformat": 4,
 "nbformat_minor": 4
}
